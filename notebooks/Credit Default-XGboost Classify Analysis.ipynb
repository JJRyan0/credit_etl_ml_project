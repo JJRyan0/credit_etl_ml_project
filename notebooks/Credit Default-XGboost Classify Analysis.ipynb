{
 "cells": [
  {
   "attachments": {
    "d6bfbda0-98ef-4289-abc1-caf59ab1d759.png": {
     "image/png": "[encoded data removed]"
    }
   },
   "cell_type": "markdown",
   "id": "758351dc-11bd-4aee-9b0d-3238429aa0d6",
   "metadata": {},
   "source": [
    "# Credit Risk XGBoost Classifier Project\n",
    "\n",
    "## Project Description:\n",
    "\n",
    "In this project, we aim to build a machine learning model to predict the likelihood of a borrower defaulting on a loan based on historical credit data. This will help financial institutions assess and mitigate potential credit risk. The problem is a binary classification task where we will predict if a borrower is likely to default (class 1) or not (class 0).\n",
    "\n",
    "We’ll be using XGBoost, a powerful gradient boosting framework, as the core algorithm to classify the data. Additionally, we will implement techniques like SMOTE (Synthetic Minority Over-sampling Technique) to handle class imbalance, GridSearchCV to tune hyperparameters, and cross-validation to assess model performance.\n",
    "\n",
    "The notebook will walk through the following steps:\n",
    "\n",
    "![image.png](attachment:d6bfbda0-98ef-4289-abc1-caf59ab1d759.png)\n",
    "\n",
    "\n",
    "### Data Exploration and Preprocessing:\n",
    "\n",
    "Load and inspect the dataset.\n",
    "\n",
    "Clean and preprocess the data by handling missing values, encoding categorical variables, and scaling numerical features.\n",
    "\n",
    "### Feature Engineering:\n",
    "\n",
    "Create or modify features to better represent the underlying patterns in the data.\n",
    "\n",
    "### Modeling:\n",
    "\n",
    "* Train an XGBoost classifier on the data.\n",
    "\n",
    "* Implement SMOTE to deal with imbalanced classes.\n",
    "\n",
    "* Use GridSearchCV to tune hyperparameters for optimal model performance.\n",
    "\n",
    "### Model Evaluation:\n",
    "\n",
    "Evaluate the model using common metrics like ROC-AUC, Precision, Recall, F1-Score, and the confusion matrix.\n",
    "\n",
    "Plot ROC curves to visualize model performance.\n"
   ]
  },
  {
   "cell_type": "markdown",
   "id": "c8be6db4-964b-42ed-837c-6ef449da7171",
   "metadata": {},
   "source": [
    "### Expected Outcome:\n",
    "\n",
    "By the end of this project, the XGBoost classifier should be able to predict the likelihood of a customer defaulting on a loan with a high degree of accuracy and fairness, \n",
    "allowing stakeholders to take preemptive measures in assessing credit risk. \n",
    "The performance will be evaluated based on its ability to correctly predict defaults (sensitivity/recall) \n",
    "and the trade-off between precision and recall using metrics like ROC-AUC, Precision, and F1-Score."
   ]
  },
  {
   "cell_type": "markdown",
   "id": "129e261a-474e-4bd2-b301-003e0f3e3b5f",
   "metadata": {},
   "source": [
    "## Potential Challenges and Considerations:\n",
    "\n",
    "* Class Imbalance: The dataset may have more non-defaults than defaults, requiring careful handling with techniques like SMOTE to avoid biased predictions.\n",
    "\n",
    "* Overfitting: XGBoost models are prone to overfitting, particularly on imbalanced datasets, so regularization techniques (e.g., reg_alpha, reg_lambda) will be applied.\n",
    "\n",
    "* Future improvements: Feature Selection and Engineering will aid in the success of the model depends on identifying the most relevant features, and therefore careful feature engineering is important."
   ]
  },
  {
   "cell_type": "code",
   "execution_count": 1,
   "id": "5f4f1699-72f4-43c7-bb1b-b486d4dbce91",
   "metadata": {},
   "outputs": [],
   "source": [
    "from sklearn.preprocessing import StandardScaler\n",
    "from sklearn.feature_selection import SelectKBest, f_classif\n",
    "import pandas as pd\n",
    "from sqlalchemy import create_engine\n",
    "import numpy as np\n",
    "import xgboost as xgb\n",
    "#from sklearn.pipeline import Pipeline\n",
    "from sklearn.compose import ColumnTransformer\n",
    "from sklearn.base import BaseEstimator, TransformerMixin\n",
    "from scipy.sparse import issparse\n",
    "from sklearn.preprocessing import OneHotEncoder\n",
    "from sklearn.model_selection import train_test_split\n",
    "from xgboost import XGBClassifier\n",
    "from sklearn.model_selection import GridSearchCV\n",
    "from sklearn.metrics import classification_report, roc_auc_score\n",
    "from imblearn.over_sampling import SMOTE\n",
    "from imblearn.pipeline import Pipeline\n",
    "from sklearn.model_selection import StratifiedKFold\n",
    "from sklearn.metrics import make_scorer, roc_auc_score\n",
    "import joblib"
   ]
  },
  {
   "cell_type": "markdown",
   "id": "81762ae3-4e5d-4f8b-a486-d18eaea90437",
   "metadata": {},
   "source": [
    "## 1. Create Postgres Database Connection & Load data to DataFrame"
   ]
  },
  {
   "cell_type": "code",
   "execution_count": 2,
   "id": "f5e2a591-4cb9-443e-90d7-fc20e6bd6f9e",
   "metadata": {},
   "outputs": [
    {
     "data": {
      "text/plain": [
       "1000"
      ]
     },
     "execution_count": 2,
     "metadata": {},
     "output_type": "execute_result"
    }
   ],
   "source": [
    "#Load Data from PostgreSQL\n",
    "import pandas as pd\n",
    "from sqlalchemy import create_engine\n",
    "\n",
    "db_config = {\n",
    "    \"user\": \"INSERT\",\n",
    "    \"password\": \"INSERT\",\n",
    "    \"host\": \"localhost\",\n",
    "    \"port\": 5432,\n",
    "    \"database\": \"credit_etl\"\n",
    "}\n",
    "\n",
    "engine = create_engine(f\"postgresql://{db_config['user']}:{db_config['password']}@{db_config['host']}:{db_config['port']}/{db_config['database']}\")\n"
   ]
  },
  {
   "cell_type": "code",
   "execution_count": 41,
   "id": "dffc6b44-d6cd-4f0b-ab47-5ae14b9ceecc",
   "metadata": {},
   "outputs": [
    {
     "data": {
      "text/html": [
       "<div>\n",
       "<style scoped>\n",
       "    .dataframe tbody tr th:only-of-type {\n",
       "        vertical-align: middle;\n",
       "    }\n",
       "\n",
       "    .dataframe tbody tr th {\n",
       "        vertical-align: top;\n",
       "    }\n",
       "\n",
       "    .dataframe thead th {\n",
       "        text-align: right;\n",
       "    }\n",
       "</style>\n",
       "<table border=\"1\" class=\"dataframe\">\n",
       "  <thead>\n",
       "    <tr style=\"text-align: right;\">\n",
       "      <th></th>\n",
       "      <th>id</th>\n",
       "      <th>limit_bal</th>\n",
       "      <th>sex</th>\n",
       "      <th>education</th>\n",
       "      <th>marriage</th>\n",
       "      <th>age</th>\n",
       "      <th>pay_0</th>\n",
       "      <th>pay_2</th>\n",
       "      <th>pay_3</th>\n",
       "      <th>pay_4</th>\n",
       "      <th>...</th>\n",
       "      <th>bill_amt4</th>\n",
       "      <th>bill_amt5</th>\n",
       "      <th>bill_amt6</th>\n",
       "      <th>pay_amt1</th>\n",
       "      <th>pay_amt2</th>\n",
       "      <th>pay_amt3</th>\n",
       "      <th>pay_amt4</th>\n",
       "      <th>pay_amt5</th>\n",
       "      <th>pay_amt6</th>\n",
       "      <th>default_payment_next_month</th>\n",
       "    </tr>\n",
       "  </thead>\n",
       "  <tbody>\n",
       "    <tr>\n",
       "      <th>0</th>\n",
       "      <td>1</td>\n",
       "      <td>20000</td>\n",
       "      <td>2</td>\n",
       "      <td>2</td>\n",
       "      <td>1</td>\n",
       "      <td>24</td>\n",
       "      <td>2</td>\n",
       "      <td>2</td>\n",
       "      <td>-1</td>\n",
       "      <td>-1</td>\n",
       "      <td>...</td>\n",
       "      <td>0</td>\n",
       "      <td>0</td>\n",
       "      <td>0</td>\n",
       "      <td>0</td>\n",
       "      <td>689</td>\n",
       "      <td>0</td>\n",
       "      <td>0</td>\n",
       "      <td>0</td>\n",
       "      <td>0</td>\n",
       "      <td>1</td>\n",
       "    </tr>\n",
       "    <tr>\n",
       "      <th>1</th>\n",
       "      <td>2</td>\n",
       "      <td>120000</td>\n",
       "      <td>2</td>\n",
       "      <td>2</td>\n",
       "      <td>2</td>\n",
       "      <td>26</td>\n",
       "      <td>-1</td>\n",
       "      <td>2</td>\n",
       "      <td>0</td>\n",
       "      <td>0</td>\n",
       "      <td>...</td>\n",
       "      <td>3272</td>\n",
       "      <td>3455</td>\n",
       "      <td>3261</td>\n",
       "      <td>0</td>\n",
       "      <td>1000</td>\n",
       "      <td>1000</td>\n",
       "      <td>1000</td>\n",
       "      <td>0</td>\n",
       "      <td>2000</td>\n",
       "      <td>1</td>\n",
       "    </tr>\n",
       "    <tr>\n",
       "      <th>2</th>\n",
       "      <td>3</td>\n",
       "      <td>90000</td>\n",
       "      <td>2</td>\n",
       "      <td>2</td>\n",
       "      <td>2</td>\n",
       "      <td>34</td>\n",
       "      <td>0</td>\n",
       "      <td>0</td>\n",
       "      <td>0</td>\n",
       "      <td>0</td>\n",
       "      <td>...</td>\n",
       "      <td>14331</td>\n",
       "      <td>14948</td>\n",
       "      <td>15549</td>\n",
       "      <td>1518</td>\n",
       "      <td>1500</td>\n",
       "      <td>1000</td>\n",
       "      <td>1000</td>\n",
       "      <td>1000</td>\n",
       "      <td>5000</td>\n",
       "      <td>0</td>\n",
       "    </tr>\n",
       "    <tr>\n",
       "      <th>3</th>\n",
       "      <td>4</td>\n",
       "      <td>50000</td>\n",
       "      <td>2</td>\n",
       "      <td>2</td>\n",
       "      <td>1</td>\n",
       "      <td>37</td>\n",
       "      <td>0</td>\n",
       "      <td>0</td>\n",
       "      <td>0</td>\n",
       "      <td>0</td>\n",
       "      <td>...</td>\n",
       "      <td>28314</td>\n",
       "      <td>28959</td>\n",
       "      <td>29547</td>\n",
       "      <td>2000</td>\n",
       "      <td>2019</td>\n",
       "      <td>1200</td>\n",
       "      <td>1100</td>\n",
       "      <td>1069</td>\n",
       "      <td>1000</td>\n",
       "      <td>0</td>\n",
       "    </tr>\n",
       "    <tr>\n",
       "      <th>4</th>\n",
       "      <td>5</td>\n",
       "      <td>50000</td>\n",
       "      <td>1</td>\n",
       "      <td>2</td>\n",
       "      <td>1</td>\n",
       "      <td>57</td>\n",
       "      <td>-1</td>\n",
       "      <td>0</td>\n",
       "      <td>-1</td>\n",
       "      <td>0</td>\n",
       "      <td>...</td>\n",
       "      <td>20940</td>\n",
       "      <td>19146</td>\n",
       "      <td>19131</td>\n",
       "      <td>2000</td>\n",
       "      <td>36681</td>\n",
       "      <td>10000</td>\n",
       "      <td>9000</td>\n",
       "      <td>689</td>\n",
       "      <td>679</td>\n",
       "      <td>0</td>\n",
       "    </tr>\n",
       "  </tbody>\n",
       "</table>\n",
       "<p>5 rows × 25 columns</p>\n",
       "</div>"
      ],
      "text/plain": [
       "   id  limit_bal  sex  education  marriage  age  pay_0  pay_2  pay_3  pay_4  \\\n",
       "0   1      20000    2          2         1   24      2      2     -1     -1   \n",
       "1   2     120000    2          2         2   26     -1      2      0      0   \n",
       "2   3      90000    2          2         2   34      0      0      0      0   \n",
       "3   4      50000    2          2         1   37      0      0      0      0   \n",
       "4   5      50000    1          2         1   57     -1      0     -1      0   \n",
       "\n",
       "   ...  bill_amt4  bill_amt5  bill_amt6  pay_amt1  pay_amt2  pay_amt3  \\\n",
       "0  ...          0          0          0         0       689         0   \n",
       "1  ...       3272       3455       3261         0      1000      1000   \n",
       "2  ...      14331      14948      15549      1518      1500      1000   \n",
       "3  ...      28314      28959      29547      2000      2019      1200   \n",
       "4  ...      20940      19146      19131      2000     36681     10000   \n",
       "\n",
       "   pay_amt4  pay_amt5  pay_amt6  default_payment_next_month  \n",
       "0         0         0         0                           1  \n",
       "1      1000         0      2000                           1  \n",
       "2      1000      1000      5000                           0  \n",
       "3      1100      1069      1000                           0  \n",
       "4      9000       689       679                           0  \n",
       "\n",
       "[5 rows x 25 columns]"
      ]
     },
     "execution_count": 41,
     "metadata": {},
     "output_type": "execute_result"
    }
   ],
   "source": [
    "#load data \n",
    "\n",
    "query = \"select * from raw.raw_customer_default_payment\"\n",
    "\n",
    "credit_data = pd.read_sql(query, engine)\n",
    "\n",
    "credit_data.head()"
   ]
  },
  {
   "cell_type": "markdown",
   "id": "92a44a67-11b9-45ee-83c3-489a5e289268",
   "metadata": {},
   "source": [
    "## 2. Preprocess Data and Build ML Pipeline"
   ]
  },
  {
   "cell_type": "code",
   "execution_count": 17,
   "id": "7ca89dea-74e4-4653-bc60-f00f3badfe5f",
   "metadata": {},
   "outputs": [
    {
     "name": "stdout",
     "output_type": "stream",
     "text": [
      "Fitting 10 folds for each of 96 candidates, totalling 960 fits\n",
      "Best Params: {'clf__learning_rate': 0.05, 'clf__max_depth': 5, 'clf__n_estimators': 300, 'clf__reg_alpha': 0, 'clf__reg_lambda': 1, 'clf__subsample': 0.8}\n",
      "Best AUC: 0.7073422195131627\n",
      "AUC on test set: 0.7751\n"
     ]
    }
   ],
   "source": [
    "x = credit_data.drop(columns= ['default_payment_next_month', 'id'])\n",
    "y = credit_data['default_payment_next_month']\n",
    "\n",
    "x_train, x_test, y_train, y_test = train_test_split(\n",
    "    x, y, test_size=0.2, random_state=42, stratify=y)\n",
    "\n",
    "\n",
    "\n",
    "#categorical_cols = ['job', 'housing', 'purpose']\n",
    "numerical_cols = credit_data\n",
    "\n",
    "# Calculate the class weight ratio for imbalanced classes\n",
    "class_weight_ratio = len(y_train) / (2 * y_train.value_counts().min())\n",
    "\n",
    "\n",
    "#define the column transformer with OneHotEncoder\n",
    "preprocessor = ColumnTransformer(transformers=[\n",
    "    #('cat', OneHotEncoder(handle_unknown='ignore', sparse_output=False), categorical_cols),\n",
    "    ('num', StandardScaler(), slice(0, x.shape[1]))\n",
    "])\n",
    "\n",
    "\n",
    "#smote = SMOTE(random_state=42, k_neighbors=5, sampling_strategy='auto')\n",
    "\n",
    "cv = StratifiedKFold(n_splits=10, shuffle=True, random_state=42)\n",
    "\n",
    "pipeline = Pipeline(steps=[\n",
    "    ('preprocess', preprocessor),\n",
    "    #('smote',SMOTE(random_state=42)),#SMOTE to handle class imbalance\n",
    "    #('selection', SelectKBest(score_func = f_classif, k=15)),\n",
    "    ('clf', XGBClassifier(eval_metric='auc', random_state=42, scale_pos_weight=class_weight_ratio))\n",
    "])\n",
    "\n",
    "\n",
    "# Define the scoring method for cross-validation (AUC in this case)\n",
    "scoring = make_scorer(roc_auc_score)\n",
    "\n",
    "param_grid = {\n",
    "    'clf__n_estimators': [50, 100, 200, 300],\n",
    "    'clf__max_depth': [3,5],\n",
    "    'clf__learning_rate': [0.01, 0.05],\n",
    "    'clf__subsample': [0.8],\n",
    "    'clf__reg_alpha': [0, 0.3, 0.7],  # L1 regularization\n",
    "    'clf__reg_lambda': [1, 10]      # L2 regularization\n",
    "}\n",
    "\n",
    "grid_search = GridSearchCV(estimator=pipeline, param_grid=param_grid,\n",
    "                           scoring=scoring, cv=cv, verbose=1, n_jobs=-1)\n",
    "\n",
    "grid_search.fit(x_train, y_train)  # optional, suppress per-iteration output\n",
    "\n",
    "best_params = grid_search.best_params_\n",
    "print('Best Params:', best_params)\n",
    "print(\"Best AUC:\", grid_search.best_score_)\n",
    "\n",
    "\n",
    "best_model = grid_search.best_estimator_\n",
    "y_pred_proba = best_model.predict_proba(x_test)[:,1]\n",
    "test_auc = roc_auc_score(y_test, y_pred_proba)\n",
    "print(f\"AUC on test set: {test_auc:.4f}\")\n",
    "                                 "
   ]
  },
  {
   "cell_type": "markdown",
   "id": "2d341a75-052f-47c0-8dd4-d2f44bbde596",
   "metadata": {},
   "source": [
    "# 3. Model Evaluation"
   ]
  },
  {
   "cell_type": "markdown",
   "id": "770c2cb3-42a1-4e00-87f8-8e24fcd31d9f",
   "metadata": {},
   "source": [
    "## Model iteration 1: Check for overfitting\n",
    "\n",
    "### Step 1: Compare AUC on training vs test data — If there are any large gaps it may indicate overfitting\n",
    "\n",
    "__Result:__\n",
    "\n",
    " __AUC on test set: 0.7667__   \n",
    " \n",
    " __V.S__   \n",
    " \n",
    " __Mean AUC from 10-fold CV: 0.7703__\n",
    "\n",
    "The results you’ve shared indicate that your model's test AUC (0.7667) is very close to the mean AUC from 10-fold cross-validation (0.7703), which suggests that your model is not overfitting.\n",
    "\n",
    "* Cross-validation AUC: The 10-fold cross-validation score (0.7703) is a good indicator of how your model is expected to generalize to unseen data. Since it's very close to the test set AUC (0.7667), \n",
    "it suggests that the model is not memorizing the training data but rather generalizing well.\n",
    "\n",
    "* Consistency: The fact that both scores are similar indicates that the model is performing consistently on both the training data (during cross-validation) and unseen test data. This is a good sign that overfitting is not a major concern.\n",
    "\n",
    "* Low variance between training (via cross-validation) and test AUC suggests that the model is generalizing well, meaning it doesn't memorize the training data and performs well on new, unseen data.\n",
    "\n",
    "* Test AUC is not significantly lower than cross-validation AUC, so there's no indication that the model is overfitting."
   ]
  },
  {
   "cell_type": "code",
   "execution_count": 32,
   "id": "7ed4e87c-5083-4828-8e37-aec5d1fb2b38",
   "metadata": {},
   "outputs": [
    {
     "name": "stdout",
     "output_type": "stream",
     "text": [
      "Mean AUC from 10-fold CV: 0.7834\n"
     ]
    }
   ],
   "source": [
    "from sklearn.model_selection import cross_val_score\n",
    "\n",
    "# Perform cross-validation and compute mean AUC\n",
    "cv_auc = cross_val_score(best_model, x_train, y_train, cv=10, scoring='roc_auc')\n",
    "print(f\"Mean AUC from 10-fold CV: {cv_auc.mean():.4f}\")"
   ]
  },
  {
   "cell_type": "markdown",
   "id": "6790080c-96f7-4d4c-9f88-6905c314f2f2",
   "metadata": {},
   "source": [
    "## Model iteration 2: Improve performance or check for minor overfitting\n",
    "\n",
    "Tune Hyperparameters further to achieve higher performance:\n",
    "\n",
    "Experimented with learning rate= decrease the rate to [0.01, 0.05] , max_depth= [3,5], regularization parameters=  L1 regularization to [0, 0.3, 0.7], for small gain in the AUC.\n",
    "\n",
    "__AUC on test set: 0.7751__\n",
    "\n",
    "__V.S__\n",
    "\n",
    "__Mean AUC from 10-fold CV: 0.7834__\n",
    "\n",
    "### Future tuning improvements\n",
    "\n",
    "* __Feature Engineering:__ Add interaction terms between features or try feature selection to remove redundant or irrelevant features.\n",
    "\n",
    "* __Model Complexity:__ You could try to reduce model complexity if you want to avoid any subtle overfitting. For example, reduce the number of estimators or max_depth.\n",
    "\n",
    "* __Monitor AUC in Production:__ If you plan to deploy the model, continue monitoring its performance on new, unseen data to ensure that the model doesn't start overfitting over time as it gets exposed to more data."
   ]
  },
  {
   "cell_type": "markdown",
   "id": "e3775088-0a94-438f-af3c-77252a61db67",
   "metadata": {},
   "source": [
    "### Step 2: Analysis the classification report"
   ]
  },
  {
   "cell_type": "markdown",
   "id": "542fb94b-0286-421a-80ee-f9d3511d70e2",
   "metadata": {},
   "source": [
    "__Overall Performance__\n",
    "\n",
    "__Accuracy:__ __80%__ reflects high performance on the dominant class (0), but can be misleading due to class imbalance.\n",
    "\n",
    "__Macro Avg F1:__ 0.70 — unweighted average of F1 scores, showing class 1 underperforms.\n",
    "\n",
    "__Weighted Avg F1:__ 0.80 — better than macro because it weighs the majority class more.\n",
    "\n",
    "__AUC: 0.775__ — decent, but not ideal; it reflects the model’s ability to rank positives higher than negatives."
   ]
  },
  {
   "cell_type": "code",
   "execution_count": 34,
   "id": "e79625d6-19a6-4dde-b936-7dad5928d93c",
   "metadata": {},
   "outputs": [
    {
     "name": "stdout",
     "output_type": "stream",
     "text": [
      "              precision    recall  f1-score   support\n",
      "\n",
      "           0       0.88      0.80      0.84      4673\n",
      "           1       0.47      0.61      0.53      1327\n",
      "\n",
      "    accuracy                           0.76      6000\n",
      "   macro avg       0.67      0.71      0.69      6000\n",
      "weighted avg       0.79      0.76      0.77      6000\n",
      "\n",
      "Test AUC: 0.7791237997436249\n"
     ]
    }
   ],
   "source": [
    "from sklearn.metrics import classification_report, roc_auc_score\n",
    "\n",
    "# Get predicted labels for classification report\n",
    "y_pred = best_model.predict(x_test)\n",
    "\n",
    "# Get predicted probabilities for AUC score\n",
    "y_pred_proba = best_model.predict_proba(x_test)[:, 1]\n",
    "\n",
    "# Print classification report\n",
    "creport2 = classification_report(y_test, y_pred)\n",
    "print(creport2)\n",
    "\n",
    "# Print AUC score\n",
    "roc_auc = roc_auc_score(y_test, y_pred_proba)\n",
    "print(\"Test AUC:\", roc_auc)"
   ]
  },
  {
   "cell_type": "markdown",
   "id": "ebac3402-2852-4066-9410-4a01e5cd1a62",
   "metadata": {},
   "source": [
    "### Interpretation\n",
    "\n",
    "Your model is strong on the majority class (class 0), but struggles with the minority class (class 1).\n",
    "\n",
    "Recall for class 1 is low (0.53) → many positives are being missed (false negatives).\n",
    "\n",
    "Precision is also moderate for class 1 (0.54) → some false positives are also being predicted.\n",
    "\n"
   ]
  },
  {
   "cell_type": "markdown",
   "id": "dc69145c-dc29-41ac-b662-c0960fc4883f",
   "metadata": {},
   "source": [
    "### Solution\n",
    "\n",
    "__1. SMOTE:__\n",
    "\n",
    " * Apply SMOTE as random_state=42: ensures reproducibility. k_neighbors=5: number of nearest neighbors used to generate synthetic samples. Can be tuned (e.g., 3–10) depending on your dataset size.\n",
    "\n",
    " * sampling_strategy='auto': balances all classes to match the majority class.\n",
    "\n",
    "__3. Scale the posituve weight__\n",
    "\n",
    "* XGBoost expects this to help rebalance the contribution of the positive class.\n",
    "\n",
    "* If your positive class = 1 (minority), and negative class = 0, use:\n",
    "\n",
    "calculate = negatives / positives\n",
    "\n",
    "\n",
    "These helps XGBoost focus more on the minority class, improving recall and AUC for imbalanced datasets.\n"
   ]
  },
  {
   "cell_type": "code",
   "execution_count": 31,
   "id": "8d542643-dbe2-4348-bae5-40e8485df4ec",
   "metadata": {},
   "outputs": [
    {
     "name": "stdout",
     "output_type": "stream",
     "text": [
      "Fitting 10 folds for each of 96 candidates, totalling 960 fits\n",
      "Best Params: {'clf__learning_rate': 0.05, 'clf__max_depth': 3, 'clf__n_estimators': 200, 'clf__reg_alpha': 0.3, 'clf__reg_lambda': 1, 'clf__subsample': 0.8}\n",
      "Best AUC: 0.7171598584238785\n",
      "AUC on test set: 0.7791\n"
     ]
    }
   ],
   "source": [
    "# Calculate the scale weight ratio for imbalanced classes\n",
    "from collections import Counter\n",
    "counter = Counter(y_train) \n",
    "\n",
    "scale_weight_ratio = counter[0] / counter[1]\n",
    "\n",
    "\n",
    "#define the column transformer with OneHotEncoder\n",
    "preprocessor = ColumnTransformer(transformers=[\n",
    "    #('cat', OneHotEncoder(handle_unknown='ignore', sparse_output=False), categorical_cols),\n",
    "    ('num', StandardScaler(), slice(0, x.shape[1]))\n",
    "])\n",
    "\n",
    "\n",
    "smote = SMOTE(random_state=42, k_neighbors=2, sampling_strategy='auto')\n",
    "\n",
    "cv = StratifiedKFold(n_splits=10, shuffle=True, random_state=42)\n",
    "\n",
    "pipeline = Pipeline(steps=[\n",
    "    ('preprocess', preprocessor),\n",
    "    ('smote',SMOTE(random_state=42)),#SMOTE to handle class imbalance\n",
    "    #('selection', SelectKBest(score_func = f_classif, k=15)),\n",
    "    ('clf', XGBClassifier(eval_metric='auc', random_state=42, scale_pos_weight=scale_weight_ratio))\n",
    "])\n",
    "\n",
    "\n",
    "# Define the scoring method for cross-validation (AUC in this case)\n",
    "scoring = make_scorer(roc_auc_score)\n",
    "\n",
    "param_grid = {\n",
    "    'clf__n_estimators': [50, 100, 200, 300],\n",
    "    'clf__max_depth': [3,5],\n",
    "    'clf__learning_rate': [0.01, 0.05],\n",
    "    'clf__subsample': [0.8],\n",
    "    'clf__reg_alpha': [0, 0.3, 0.7],  # L1 regularization\n",
    "    'clf__reg_lambda': [1, 10]      # L2 regularization\n",
    "}\n",
    "\n",
    "grid_search = GridSearchCV(estimator=pipeline, param_grid=param_grid,\n",
    "                           scoring=scoring, cv=cv, verbose=1, n_jobs=-1)\n",
    "\n",
    "grid_search.fit(x_train, y_train)  # optional, suppress per-iteration output\n",
    "\n",
    "best_params = grid_search.best_params_\n",
    "print('Best Params:', best_params)\n",
    "print(\"Best AUC:\", grid_search.best_score_)\n",
    "\n",
    "\n",
    "credit_best_model = grid_search.best_estimator_\n",
    "y_pred_proba = credit_best_model.predict_proba(x_test)[:,1]\n",
    "test_auc = roc_auc_score(y_test, y_pred_proba)\n",
    "print(f\"AUC on test set: {test_auc:.4f}\")"
   ]
  },
  {
   "cell_type": "code",
   "execution_count": 35,
   "id": "30c900d5-5748-48e3-b4ed-117cdc7bd493",
   "metadata": {},
   "outputs": [
    {
     "data": {
      "text/plain": [
       "['credit_best_model_V1.pkl']"
      ]
     },
     "execution_count": 35,
     "metadata": {},
     "output_type": "execute_result"
    }
   ],
   "source": [
    "joblib.dump(best_model, 'credit_best_model_V1.pkl')"
   ]
  },
  {
   "cell_type": "markdown",
   "id": "ec76aed1-4908-40ea-920d-f64a406c4a7b",
   "metadata": {},
   "source": [
    "## AUC Improvements Noted - Increase Test AUC: 0.7791 from previous 0.7751"
   ]
  },
  {
   "cell_type": "code",
   "execution_count": 36,
   "id": "e6e50420-2af3-4571-b37e-75f6fe16e581",
   "metadata": {},
   "outputs": [
    {
     "name": "stdout",
     "output_type": "stream",
     "text": [
      "              precision    recall  f1-score   support\n",
      "\n",
      "           0       0.88      0.80      0.84      4673\n",
      "           1       0.47      0.61      0.53      1327\n",
      "\n",
      "    accuracy                           0.76      6000\n",
      "   macro avg       0.67      0.71      0.69      6000\n",
      "weighted avg       0.79      0.76      0.77      6000\n",
      "\n",
      "Test AUC: 0.7791237997436249\n"
     ]
    }
   ],
   "source": [
    "\n",
    "# Get predicted labels for classification report\n",
    "y_pred = credit_best_model.predict(x_test)\n",
    "\n",
    "# Get predicted probabilities for AUC score\n",
    "y_pred_proba = credit_best_model.predict_proba(x_test)[:, 1]\n",
    "\n",
    "# Print classification report\n",
    "creport2 = classification_report(y_test, y_pred)\n",
    "print(creport2)\n",
    "\n",
    "# Print AUC score\n",
    "roc_auc = roc_auc_score(y_test, y_pred_proba)\n",
    "print(\"Test AUC:\", roc_auc)"
   ]
  },
  {
   "cell_type": "code",
   "execution_count": 39,
   "id": "bc8bef43-7374-4763-8836-5cf06f0cf616",
   "metadata": {},
   "outputs": [
    {
     "data": {
      "image/png": "[encoded data removed]",
      "text/plain": [
       "<Figure size 800x600 with 1 Axes>"
      ]
     },
     "metadata": {},
     "output_type": "display_data"
    }
   ],
   "source": [
    "import matplotlib.pyplot as plt\n",
    "from sklearn.metrics import roc_curve, auc\n",
    "\n",
    "# Predict probabilities for the test set\n",
    "#y_pred_prob = model.predict_proba(x_test)[:, 1]  # Probabilities for class 1\n",
    "\n",
    "# Compute ROC curve\n",
    "fpr, tpr, _ = roc_curve(y_test, y_pred_proba)\n",
    "\n",
    "# Calculate AUC\n",
    "roc_auc = auc(fpr, tpr)\n",
    "\n",
    "# Plot ROC curve\n",
    "plt.figure(figsize=(8, 6))\n",
    "plt.plot(fpr, tpr, color='blue', label=f'ROC curve (AUC = {roc_auc:.2f})')\n",
    "plt.plot([0, 1], [0, 1], color='gray', linestyle='--')  # Random classifier line\n",
    "plt.xlim([0.0, 1.0])\n",
    "plt.ylim([0.0, 1.05])\n",
    "plt.xlabel('False Positive Rate (FPR)')\n",
    "plt.ylabel('True Positive Rate (TPR)')\n",
    "plt.title('Receiver Operating Characteristic (ROC) Curve')\n",
    "plt.legend(loc='lower right')\n",
    "plt.show()"
   ]
  },
  {
   "cell_type": "markdown",
   "id": "73d96b98-9a18-426a-b608-27bf30f5e5e7",
   "metadata": {},
   "source": [
    "# Add saved model to MLflow"
   ]
  },
  {
   "cell_type": "code",
   "execution_count": 6,
   "id": "1fd89dc1-aa62-4d38-91b5-4fbfbeb010b9",
   "metadata": {},
   "outputs": [
    {
     "name": "stderr",
     "output_type": "stream",
     "text": [
      "2025/05/10 10:38:52 WARNING mlflow.sklearn: Model was missing function: predict. Not logging python_function flavor!\n",
      "2025/05/10 10:38:54 WARNING mlflow.models.model: Model logged without a signature and input example. Please set `input_example` parameter when logging the model to auto infer the model signature.\n",
      "2025/05/10 10:38:54 INFO mlflow.tracking._tracking_service.client: 🏃 View run amazing-flea-718 at: http://localhost:5000/#/experiments/0/runs/82c703632ba948708a19f62006a688a2.\n",
      "2025/05/10 10:38:54 INFO mlflow.tracking._tracking_service.client: 🧪 View experiment at: http://localhost:5000/#/experiments/0.\n",
      "Successfully registered model 'credit_score_model'.\n",
      "2025/05/10 10:38:54 INFO mlflow.store.model_registry.abstract_store: Waiting up to 300 seconds for model version to finish creation. Model name: credit_score_model, version 1\n",
      "Created version '1' of model 'credit_score_model'.\n"
     ]
    }
   ],
   "source": [
    "import mlflow.sklearn\n",
    "\n",
    "mlflow.set_tracking_uri(\"http://localhost:5000\")\n",
    "\n",
    "#log model with flow\n",
    "with mlflow.start_run() as run:\n",
    "    mlflow.sklearn.log_model('credit_best_model_V1.pkl', artifact_path= 'credit_best_model_V1')\n",
    "    #print(f\"Run ID: {run.info.run_id}\")\n",
    "\n",
    "#register model\n",
    "\n",
    "result = mlflow.register_model(\n",
    "    model_uri=f\"runs:/{run.info.run_id}/credit_best_model_V1\",\n",
    "    name=\"credit_score_model\"\n",
    ")\n"
   ]
  }
 ],
 "metadata": {
  "kernelspec": {
   "display_name": "Python 3 (ipykernel)",
   "language": "python",
   "name": "python3"
  },
  "language_info": {
   "codemirror_mode": {
    "name": "ipython",
    "version": 3
   },
   "file_extension": ".py",
   "mimetype": "text/x-python",
   "name": "python",
   "nbconvert_exporter": "python",
   "pygments_lexer": "ipython3",
   "version": "3.8.2"
  }
 },
 "nbformat": 4,
 "nbformat_minor": 5
}
